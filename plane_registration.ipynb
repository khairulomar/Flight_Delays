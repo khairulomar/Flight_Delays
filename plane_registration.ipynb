{
 "cells": [
  {
   "cell_type": "code",
   "execution_count": 30,
   "metadata": {},
   "outputs": [],
   "source": [
    "import pandas as pd"
   ]
  },
  {
   "cell_type": "code",
   "execution_count": 31,
   "metadata": {},
   "outputs": [
    {
     "data": {
      "text/plain": [
       "2928"
      ]
     },
     "execution_count": 31,
     "metadata": {},
     "output_type": "execute_result"
    }
   ],
   "source": [
    "df = pd.read_csv('newark_flights.csv')\n",
    "aircraft_list = list(df['TAIL_NUMBER'].unique())\n",
    "aircraft_list = list(map(lambda x: str(x)[1:], aircraft_list))\n",
    "len(aircraft_list)"
   ]
  },
  {
   "cell_type": "code",
   "execution_count": 32,
   "metadata": {},
   "outputs": [
    {
     "data": {
      "text/plain": [
       "(437916, 35)"
      ]
     },
     "execution_count": 32,
     "metadata": {},
     "output_type": "execute_result"
    }
   ],
   "source": [
    "rego = pd.read_csv('registration.txt')\n",
    "rego.shape"
   ]
  },
  {
   "cell_type": "code",
   "execution_count": 33,
   "metadata": {},
   "outputs": [
    {
     "data": {
      "text/plain": [
       "Index(['N-Number', 'Serial Number', 'AircraftMFRModelCode', 'Engine MFR Code',\n",
       "       'Year Mfr', 'Type Registrant', 'Name', 'Street1', 'Street2', 'City',\n",
       "       'State', 'ZIP', 'Region', 'County', 'Country', 'LastActivity Date',\n",
       "       'CertIssueDate', 'Certification Requested', 'TypeAcft', 'Type Engine',\n",
       "       'StatusCode', 'Mode S Code', 'Fractional Ownership',\n",
       "       'Airworthiness Date', 'Other Name 1', 'Other Name 2', 'Other Name 3',\n",
       "       'Other Name 4', 'Other Name 5', 'Expiration Date', 'UniqueID',\n",
       "       'Kit MFR Code', 'Kit Model', 'Mode S Code Hex', 'Unnamed: 34'],\n",
       "      dtype='object')"
      ]
     },
     "execution_count": 33,
     "metadata": {},
     "output_type": "execute_result"
    }
   ],
   "source": [
    "rego.columns"
   ]
  },
  {
   "cell_type": "code",
   "execution_count": 34,
   "metadata": {},
   "outputs": [],
   "source": [
    "# Clean up data\n",
    "newark_rego = rego[rego['N-Number'].isin(aircraft_list)]\n",
    "blank = '        '\n",
    "newark_rego = newark_rego.drop(newark_rego[newark_rego['Airworthiness Date']==blank].index)\n",
    "keep_columns = ['N-Number', 'Airworthiness Date']\n",
    "newark_rego = newark_rego[keep_columns]\n",
    "newark_rego['N-Number'] = newark_rego['N-Number'].apply(lambda row: ('N' + str(row)).strip())\n",
    "newark_rego['Registered'] = pd.to_datetime(newark_rego['Airworthiness Date'])\n",
    "newark_rego.drop('Airworthiness Date', axis=1, inplace=True)"
   ]
  },
  {
   "cell_type": "code",
   "execution_count": 36,
   "metadata": {},
   "outputs": [
    {
     "data": {
      "text/html": [
       "<div>\n",
       "<style scoped>\n",
       "    .dataframe tbody tr th:only-of-type {\n",
       "        vertical-align: middle;\n",
       "    }\n",
       "\n",
       "    .dataframe tbody tr th {\n",
       "        vertical-align: top;\n",
       "    }\n",
       "\n",
       "    .dataframe thead th {\n",
       "        text-align: right;\n",
       "    }\n",
       "</style>\n",
       "<table border=\"1\" class=\"dataframe\">\n",
       "  <thead>\n",
       "    <tr style=\"text-align: right;\">\n",
       "      <th></th>\n",
       "      <th>N-Number</th>\n",
       "      <th>Registered</th>\n",
       "    </tr>\n",
       "  </thead>\n",
       "  <tbody>\n",
       "    <tr>\n",
       "      <td>48</td>\n",
       "      <td>N438WN</td>\n",
       "      <td>2003-07-21</td>\n",
       "    </tr>\n",
       "    <tr>\n",
       "      <td>400</td>\n",
       "      <td>N68061</td>\n",
       "      <td>2002-03-08</td>\n",
       "    </tr>\n",
       "    <tr>\n",
       "      <td>646</td>\n",
       "      <td>N914UY</td>\n",
       "      <td>2014-11-07</td>\n",
       "    </tr>\n",
       "    <tr>\n",
       "      <td>901</td>\n",
       "      <td>N446UA</td>\n",
       "      <td>1998-07-02</td>\n",
       "    </tr>\n",
       "    <tr>\n",
       "      <td>1542</td>\n",
       "      <td>N18120</td>\n",
       "      <td>2005-02-25</td>\n",
       "    </tr>\n",
       "  </tbody>\n",
       "</table>\n",
       "</div>"
      ],
      "text/plain": [
       "     N-Number Registered\n",
       "48     N438WN 2003-07-21\n",
       "400    N68061 2002-03-08\n",
       "646    N914UY 2014-11-07\n",
       "901    N446UA 1998-07-02\n",
       "1542   N18120 2005-02-25"
      ]
     },
     "execution_count": 36,
     "metadata": {},
     "output_type": "execute_result"
    }
   ],
   "source": [
    "newark_rego.head()"
   ]
  },
  {
   "cell_type": "code",
   "execution_count": 35,
   "metadata": {},
   "outputs": [],
   "source": [
    "# Export as CSV\n",
    "newark_rego.to_csv('newark_plane_reg.csv')"
   ]
  }
 ],
 "metadata": {
  "kernelspec": {
   "display_name": "Python 3",
   "language": "python",
   "name": "python3"
  },
  "language_info": {
   "codemirror_mode": {
    "name": "ipython",
    "version": 3
   },
   "file_extension": ".py",
   "mimetype": "text/x-python",
   "name": "python",
   "nbconvert_exporter": "python",
   "pygments_lexer": "ipython3",
   "version": "3.7.4"
  }
 },
 "nbformat": 4,
 "nbformat_minor": 2
}
