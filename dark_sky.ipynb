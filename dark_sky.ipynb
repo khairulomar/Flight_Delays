{
 "cells": [
  {
   "cell_type": "code",
   "execution_count": 161,
   "metadata": {},
   "outputs": [],
   "source": [
    "import pandas as pd\n",
    "import requests\n",
    "import json\n",
    "import progressbar\n",
    "import time\n",
    "from datetime import datetime\n",
    "import pytz"
   ]
  },
  {
   "cell_type": "code",
   "execution_count": 193,
   "metadata": {},
   "outputs": [],
   "source": [
    "def get_keys(path):\n",
    "    with open(path) as f:\n",
    "        return json.load(f)\n",
    "keys = get_keys(\"../darksky.json\")\n",
    "api_key = keys['api_key']"
   ]
  },
  {
   "cell_type": "code",
   "execution_count": 194,
   "metadata": {},
   "outputs": [],
   "source": [
    "def darksky_weather(lat, lon, start_time, days):\n",
    "\n",
    "    # convert %d/%m/%Y %H:%M to unix time\n",
    "    # input must be in format 01/01/2015 12:00 UTC\n",
    "    start = int(time.mktime(time.strptime(start_time, '%d/%m/%Y %H:%M')))\n",
    "    \n",
    "    nyc_weather = []\n",
    "    pbar = progressbar.ProgressBar()\n",
    "    for date in pbar(range(start, start + days*60*60*24, 86400)):\n",
    "\n",
    "        link = f'https://api.darksky.net/forecast/{api_key}/{lat},{lon},{date}'\n",
    "        r = requests.get(link)\n",
    "        skydata = r.json()\n",
    "        if len(skydata) >= 8:\n",
    "            for i in range(len(skydata['hourly']['data'])):\n",
    "                hourly_weather = skydata['hourly']['data'][i]\n",
    "                nyc_weather.append(hourly_weather)\n",
    "        else:\n",
    "            hourly_weather = f'No data. Status={r.status_code}'\n",
    "            nyc_data.append(hourly_weather)\n",
    "            \n",
    "    return nyc_weather"
   ]
  },
  {
   "cell_type": "code",
   "execution_count": 136,
   "metadata": {},
   "outputs": [
    {
     "name": "stderr",
     "output_type": "stream",
     "text": [
      "100% |########################################################################|\n"
     ]
    },
    {
     "data": {
      "text/plain": [
       "8760"
      ]
     },
     "execution_count": 136,
     "metadata": {},
     "output_type": "execute_result"
    }
   ],
   "source": [
    "# Newark Airport coordinates\n",
    "lat = 40.6895\n",
    "lon = -74.1745\n",
    "start_time = '01/01/2015 17:00' # noon in NYC\n",
    "days = 365\n",
    "\n",
    "# Run API for 1 year\n",
    "raw_weather = darksky_weather(lat, lon, start_time, days)\n",
    "len(raw_weather)"
   ]
  },
  {
   "cell_type": "code",
   "execution_count": 186,
   "metadata": {},
   "outputs": [
    {
     "data": {
      "text/html": [
       "<div>\n",
       "<style scoped>\n",
       "    .dataframe tbody tr th:only-of-type {\n",
       "        vertical-align: middle;\n",
       "    }\n",
       "\n",
       "    .dataframe tbody tr th {\n",
       "        vertical-align: top;\n",
       "    }\n",
       "\n",
       "    .dataframe thead th {\n",
       "        text-align: right;\n",
       "    }\n",
       "</style>\n",
       "<table border=\"1\" class=\"dataframe\">\n",
       "  <thead>\n",
       "    <tr style=\"text-align: right;\">\n",
       "      <th></th>\n",
       "      <th>icon</th>\n",
       "      <th>precipIntensity</th>\n",
       "      <th>temperature</th>\n",
       "      <th>windSpeed</th>\n",
       "      <th>visibility</th>\n",
       "      <th>nyc_time</th>\n",
       "      <th>year</th>\n",
       "      <th>month</th>\n",
       "      <th>day</th>\n",
       "      <th>hour</th>\n",
       "    </tr>\n",
       "  </thead>\n",
       "  <tbody>\n",
       "    <tr>\n",
       "      <td>0</td>\n",
       "      <td>clear</td>\n",
       "      <td>0.0</td>\n",
       "      <td>-4.411111</td>\n",
       "      <td>1.66</td>\n",
       "      <td>9.997</td>\n",
       "      <td>01/01/2015 00:00</td>\n",
       "      <td>2015</td>\n",
       "      <td>1</td>\n",
       "      <td>1</td>\n",
       "      <td>0</td>\n",
       "    </tr>\n",
       "    <tr>\n",
       "      <td>1</td>\n",
       "      <td>clear</td>\n",
       "      <td>0.0</td>\n",
       "      <td>-4.411111</td>\n",
       "      <td>1.91</td>\n",
       "      <td>9.997</td>\n",
       "      <td>01/01/2015 01:00</td>\n",
       "      <td>2015</td>\n",
       "      <td>1</td>\n",
       "      <td>1</td>\n",
       "      <td>1</td>\n",
       "    </tr>\n",
       "    <tr>\n",
       "      <td>2</td>\n",
       "      <td>clear</td>\n",
       "      <td>0.0</td>\n",
       "      <td>-4.411111</td>\n",
       "      <td>2.38</td>\n",
       "      <td>9.997</td>\n",
       "      <td>01/01/2015 02:00</td>\n",
       "      <td>2015</td>\n",
       "      <td>1</td>\n",
       "      <td>1</td>\n",
       "      <td>2</td>\n",
       "    </tr>\n",
       "    <tr>\n",
       "      <td>3</td>\n",
       "      <td>clear</td>\n",
       "      <td>0.0</td>\n",
       "      <td>-4.988889</td>\n",
       "      <td>1.85</td>\n",
       "      <td>9.997</td>\n",
       "      <td>01/01/2015 03:00</td>\n",
       "      <td>2015</td>\n",
       "      <td>1</td>\n",
       "      <td>1</td>\n",
       "      <td>3</td>\n",
       "    </tr>\n",
       "    <tr>\n",
       "      <td>4</td>\n",
       "      <td>clear</td>\n",
       "      <td>0.0</td>\n",
       "      <td>-4.411111</td>\n",
       "      <td>2.77</td>\n",
       "      <td>9.997</td>\n",
       "      <td>01/01/2015 04:00</td>\n",
       "      <td>2015</td>\n",
       "      <td>1</td>\n",
       "      <td>1</td>\n",
       "      <td>4</td>\n",
       "    </tr>\n",
       "  </tbody>\n",
       "</table>\n",
       "</div>"
      ],
      "text/plain": [
       "    icon  precipIntensity  temperature  windSpeed  visibility  \\\n",
       "0  clear              0.0    -4.411111       1.66       9.997   \n",
       "1  clear              0.0    -4.411111       1.91       9.997   \n",
       "2  clear              0.0    -4.411111       2.38       9.997   \n",
       "3  clear              0.0    -4.988889       1.85       9.997   \n",
       "4  clear              0.0    -4.411111       2.77       9.997   \n",
       "\n",
       "           nyc_time  year  month  day  hour  \n",
       "0  01/01/2015 00:00  2015      1    1     0  \n",
       "1  01/01/2015 01:00  2015      1    1     1  \n",
       "2  01/01/2015 02:00  2015      1    1     2  \n",
       "3  01/01/2015 03:00  2015      1    1     3  \n",
       "4  01/01/2015 04:00  2015      1    1     4  "
      ]
     },
     "execution_count": 186,
     "metadata": {},
     "output_type": "execute_result"
    }
   ],
   "source": [
    "weather_data = pd.DataFrame(raw_weather)\n",
    "\n",
    "keep_columns = ['time', 'icon', 'precipIntensity', 'temperature', 'windSpeed', 'visibility']\n",
    "weather_data = weather_data[keep_columns]\n",
    "\n",
    "# Clean up summary\n",
    "replace_dict = {'-day':'', '-night':''}\n",
    "for key, value in replace_dict.items():\n",
    "    weather_data['icon'] = weather_data['icon'].apply(lambda row: str(row).replace(key, value))\n",
    "\n",
    "# Convert F to Celcius\n",
    "weather_data['temperature'] = weather_data['temperature'].apply(lambda row: (row-32)*5/9)\n",
    "\n",
    "# Convert to local NYC time\n",
    "weather_data['nyc_time'] = weather_data['time'].apply(lambda row: datetime.fromtimestamp(row, tz= pytz.timezone('America/New_York')).strftime('%d/%m/%Y %H:%M'))\n",
    "weather_data.drop('time', axis=1, inplace=True)\n",
    "weather_data['year'] = weather_data['nyc_time'].apply(lambda row: int(row[6:10]))\n",
    "weather_data['month'] = weather_data['nyc_time'].apply(lambda row: int(row[3:5]))\n",
    "weather_data['day'] = weather_data['nyc_time'].apply(lambda row: int(row[0:2]))\n",
    "weather_data['hour'] = weather_data['nyc_time'].apply(lambda row: int(row[11:13]))\n",
    "\n",
    "weather_data.head()\n"
   ]
  },
  {
   "cell_type": "code",
   "execution_count": 187,
   "metadata": {},
   "outputs": [
    {
     "data": {
      "text/plain": [
       "icon               0\n",
       "precipIntensity    0\n",
       "temperature        0\n",
       "windSpeed          0\n",
       "visibility         0\n",
       "nyc_time           0\n",
       "year               0\n",
       "month              0\n",
       "day                0\n",
       "hour               0\n",
       "dtype: int64"
      ]
     },
     "execution_count": 187,
     "metadata": {},
     "output_type": "execute_result"
    }
   ],
   "source": [
    "weather_data.isna().sum()"
   ]
  },
  {
   "cell_type": "code",
   "execution_count": 191,
   "metadata": {},
   "outputs": [
    {
     "data": {
      "text/plain": [
       "partly-cloudy    0.431279\n",
       "clear            0.257991\n",
       "cloudy           0.236301\n",
       "rain             0.050571\n",
       "fog              0.018950\n",
       "snow             0.003767\n",
       "sleet            0.001142\n",
       "Name: icon, dtype: float64"
      ]
     },
     "execution_count": 191,
     "metadata": {},
     "output_type": "execute_result"
    }
   ],
   "source": [
    "weather_data['icon'].value_counts(normalize=True)"
   ]
  },
  {
   "cell_type": "code",
   "execution_count": 195,
   "metadata": {},
   "outputs": [],
   "source": [
    "# Export as CSV\n",
    "weather_data.to_csv('newark_weather.csv')"
   ]
  },
  {
   "cell_type": "code",
   "execution_count": null,
   "metadata": {},
   "outputs": [],
   "source": []
  }
 ],
 "metadata": {
  "kernelspec": {
   "display_name": "Python 3",
   "language": "python",
   "name": "python3"
  },
  "language_info": {
   "codemirror_mode": {
    "name": "ipython",
    "version": 3
   },
   "file_extension": ".py",
   "mimetype": "text/x-python",
   "name": "python",
   "nbconvert_exporter": "python",
   "pygments_lexer": "ipython3",
   "version": "3.7.4"
  }
 },
 "nbformat": 4,
 "nbformat_minor": 2
}
